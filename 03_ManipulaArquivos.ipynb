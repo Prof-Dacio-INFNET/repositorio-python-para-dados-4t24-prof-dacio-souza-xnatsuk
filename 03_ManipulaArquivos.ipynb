{
 "cells": [
  {
   "cell_type": "markdown",
   "metadata": {},
   "source": [
    "# Manipulacao de Arquivos"
   ]
  },
  {
   "cell_type": "markdown",
   "metadata": {},
   "source": [
    "\n",
    "## Objetivo:\n",
    "Operacoes basicas de leitura e escrita de arquivos em Python.\n",
    "- Leitura e Escrita de Arquivos\n",
    "    - Arquivos de texto: Utilize `open(), read(), readline(), readlines(), write(), e writelines()` para manipular arquivos de texto plano.\n",
    "    - Arquivos binários: Para lidar com arquivos binários, como imagens ou arquivos de áudio, use `open()` com o modo 'rb' (read binary) ou 'wb' (write binary).\n"
   ]
  },
  {
   "cell_type": "markdown",
   "metadata": {},
   "source": [
    "## Abrindo e Fechando Arquivos\n",
    "\n",
    "Função open():\n",
    "    Sintaxe: \n",
    "    \n",
    "    file = open('path_to_file', 'mode')\n",
    "    \n",
    "    file.close()\n",
    "\n",
    "- Modos principais:\n",
    "    - 'r' – Leitura (padrão).\n",
    "    - 'w' – Escrita (sobrescreve dados).\n",
    "    - 'a' – Adição (escreve dados no final do arquivo).\n",
    "    - 'r+' – Leitura e escrita."
   ]
  },
  {
   "cell_type": "code",
   "execution_count": 16,
   "metadata": {},
   "outputs": [
    {
     "name": "stdout",
     "output_type": "stream",
     "text": [
      "nossa aula de manipula arquivo\n",
      "Ã‰ a aula que estÃ¡ ocorredo agora\n",
      "no dia 25 / 10 2024\n",
      "<class '_io.TextIOWrapper'>\n"
     ]
    }
   ],
   "source": [
    "file = open('dados/exemplo.txt', 'r')\n",
    "print(file.read())\n",
    "print(type(file))\n",
    "file.close()\n"
   ]
  },
  {
   "cell_type": "code",
   "execution_count": 7,
   "metadata": {},
   "outputs": [
    {
     "name": "stdout",
     "output_type": "stream",
     "text": [
      "nossa aula de manipula arquivo\n",
      "Ã‰ a aula que estÃ¡ ocorredo agora\n",
      "no dia 25 / 10 2024\n"
     ]
    }
   ],
   "source": [
    "with open ('dados/exemplo.txt', 'r') as f:\n",
    "    dados_exemplo = f.read()\n",
    "\n",
    "print(dados_exemplo)"
   ]
  },
  {
   "cell_type": "markdown",
   "metadata": {},
   "source": [
    "### Escrevendo e Anexando em Arquivos\n",
    "Escrever em arquivos é tão fácil quanto lê-los. \n",
    "\n",
    "O modo 'w' cria um novo arquivo ou sobrescreve um existente, enquanto 'a' adiciona ao final de um arquivo existente. \n",
    "\n",
    "Vejamos como fazer isso."
   ]
  },
  {
   "cell_type": "code",
   "execution_count": 17,
   "metadata": {},
   "outputs": [],
   "source": [
    "# Exemplo: Escrita em um arquivo de texto\n",
    "with open('dados/saida.txt', 'w') as arquivo:\n",
    "    arquivo.write('Hello, mundinho!\\n' + dados_exemplo)\n",
    "\n",
    "# arquivo.close()\n"
   ]
  },
  {
   "cell_type": "code",
   "execution_count": 43,
   "metadata": {},
   "outputs": [
    {
     "name": "stdout",
     "output_type": "stream",
     "text": [
      "Olá, mundo!Olá, mundo!Olá, mundo!Olá, mundo!Olá, mundo!Olá, mundo!Olá, mundo!\n",
      "Olá, mundo!\n",
      "Olá, mundo!\n",
      "Olá, mundo!\n",
      "Olá, mundo!\n",
      "OlÃ¡, mundo!\n",
      "\n"
     ]
    }
   ],
   "source": [
    "# Escrevendo em um arquivo\n",
    "with open('dados/exemplinho.txt', 'a', encoding='utf-8') as f:\n",
    "    f.write('Olá, mundo!\\n')\n",
    "\n",
    "# Lendo o mesmo arquivo\n",
    "with open('dados/exemplinho.txt', 'r') as f:\n",
    "    conteudo = f.read()\n",
    "    print(conteudo)  # Saída: Olá, mundo!\n"
   ]
  },
  {
   "cell_type": "markdown",
   "metadata": {},
   "source": [
    "### Lendo Arquivos\n",
    "Quando lemos arquivos, podemos querer todo o conteúdo de uma vez ou processá-lo linha por linha. \n",
    "\n",
    "Existem métodos para cada caso: `read(), readline(), e readlines()`. \n",
    "\n",
    "Vamos explorar como usá-los."
   ]
  },
  {
   "cell_type": "code",
   "execution_count": null,
   "metadata": {},
   "outputs": [
    {
     "name": "stdout",
     "output_type": "stream",
     "text": [
      "OI PESSOAL DO INFNET!!!!\n",
      "esse aqui um mais um arquivo de exemplo\n",
      "uma nova linha do exemplo\n",
      "E TUDO VAI SER SOBRESCRITO\n"
     ]
    }
   ],
   "source": [
    "\n",
    "# Exemplo: Leitura de um arquivo de texto\n",
    "with open('dados/exemplo2.txt', 'r') as arquivo:\n",
    "    conteudo = arquivo.read()\n",
    "\n",
    "print(conteudo)\n"
   ]
  },
  {
   "cell_type": "markdown",
   "metadata": {},
   "source": [
    "## Abrindo e Fechando Arquivos\n",
    "Para começar a trabalhar com arquivos em Python, usamos a função `open()`. \n",
    "\n",
    "Ela tem dois argumentos principais: o caminho do arquivo e o modo. \n",
    "Por exemplo, `open('meu_arquivo.txt', 'r')` abre o arquivo meu_arquivo.txt em modo de leitura. \n",
    "\n",
    "É essencial fechar cada arquivo aberto com `close()` para liberar recursos. \n",
    "\n",
    "Contudo, uma forma mais segura e moderna de fazer isso é utilizando o gerenciador de contexto `with`, que automaticamente cuida do fechamento para nós. "
   ]
  },
  {
   "cell_type": "markdown",
   "metadata": {},
   "source": [
    "### Métodos de Leitura\n",
    "   "
   ]
  },
  {
   "cell_type": "markdown",
   "metadata": {},
   "source": [
    "Ler o conteúdo de um arquivo usando métodos como `read(), readline()` para ler linha a linha, e `readlines()` para obter uma lista de linhas."
   ]
  },
  {
   "cell_type": "markdown",
   "metadata": {},
   "source": [
    "Lê todo o conteúdo do arquivo em uma única string."
   ]
  },
  {
   "cell_type": "code",
   "execution_count": 53,
   "metadata": {},
   "outputs": [
    {
     "data": {
      "text/plain": [
       "'a linha numero0\\na linha numero1\\na linha numero2\\na linha numero3\\na linha numero4\\na linha numero5\\na linha numero6\\na linha numero7\\na linha numero8\\na linha numero9\\na linha numero10\\na linha numero11\\na linha numero12\\na linha numero13\\na linha numero14\\na linha numero15\\na linha numero16\\na linha numero17\\na linha numero18\\na linha numero19\\na linha numero20\\na linha numero21\\na linha numero22\\na linha numero23\\na linha numero24\\na linha numero25\\na linha numero26\\na linha numero27\\na linha numero28\\na linha numero29\\na linha numero30\\na linha numero31\\na linha numero32\\na linha numero33\\na linha numero34\\na linha numero35\\na linha numero36\\na linha numero37\\na linha numero38\\na linha numero39\\na linha numero40\\na linha numero41\\na linha numero42\\na linha numero43\\na linha numero44\\na linha numero45\\na linha numero46\\na linha numero47\\na linha numero48\\na linha numero49'"
      ]
     },
     "execution_count": 53,
     "metadata": {},
     "output_type": "execute_result"
    }
   ],
   "source": [
    "with open('dados/example.txt', 'r') as file:\n",
    "    content = file.read()\n",
    "    \n",
    "content\n"
   ]
  },
  {
   "cell_type": "markdown",
   "metadata": {},
   "source": [
    "Lê uma linha a cada chamada."
   ]
  },
  {
   "cell_type": "code",
   "execution_count": 48,
   "metadata": {},
   "outputs": [
    {
     "name": "stdout",
     "output_type": "stream",
     "text": [
      "[0, 1, 4, 9, 16, 25, 36, 49, 64, 81, 100, 121, 144, 169, 196, 225, 256, 289, 324, 361, 400, 441, 484, 529, 576, 625, 676, 729, 784, 841, 900, 961, 1024, 1089, 1156, 1225, 1296, 1369, 1444, 1521, 1600, 1681, 1764, 1849, 1936, 2025, 2116, 2209, 2304, 2401]\n"
     ]
    }
   ],
   "source": [
    "def interavel():\n",
    "    for n in range(50):\n",
    "        n = n**2\n",
    "        yield n\n",
    "\n",
    "print([a for a in interavel()])\n",
    "\n"
   ]
  },
  {
   "cell_type": "code",
   "execution_count": null,
   "metadata": {},
   "outputs": [
    {
     "name": "stdout",
     "output_type": "stream",
     "text": [
      "A LINHA NUMERO0\n",
      "\n",
      "A LINHA NUMERO2\n",
      "\n",
      "A LINHA NUMERO4\n",
      "\n",
      "A LINHA NUMERO6\n",
      "\n",
      "A LINHA NUMERO8\n",
      "\n",
      "A LINHA NUMERO10\n",
      "\n",
      "A LINHA NUMERO12\n",
      "\n",
      "A LINHA NUMERO14\n",
      "\n",
      "A LINHA NUMERO16\n",
      "\n",
      "A LINHA NUMERO18\n",
      "\n",
      "A LINHA NUMERO20\n",
      "\n",
      "A LINHA NUMERO22\n",
      "\n",
      "A LINHA NUMERO24\n",
      "\n",
      "A LINHA NUMERO26\n",
      "\n",
      "A LINHA NUMERO28\n",
      "\n",
      "A LINHA NUMERO30\n",
      "\n",
      "A LINHA NUMERO32\n",
      "\n",
      "A LINHA NUMERO34\n",
      "\n",
      "A LINHA NUMERO36\n",
      "\n",
      "A LINHA NUMERO38\n",
      "\n",
      "A LINHA NUMERO40\n",
      "\n",
      "A LINHA NUMERO42\n",
      "\n",
      "A LINHA NUMERO44\n",
      "\n",
      "A LINHA NUMERO46\n",
      "\n",
      "A LINHA NUMERO48\n",
      "\n"
     ]
    }
   ],
   "source": [
    "with open('dados/example.txt', 'r') as file:\n",
    "    line = file.readline()\n",
    "    while line:\n",
    "        print(line.upper())\n",
    "        line = file.readline()\n",
    "\n"
   ]
  },
  {
   "cell_type": "code",
   "execution_count": 27,
   "metadata": {},
   "outputs": [
    {
     "name": "stdout",
     "output_type": "stream",
     "text": [
      "A LINHA NUMERO1\n",
      "\n",
      "A LINHA NUMERO3\n",
      "\n",
      "A LINHA NUMERO5\n",
      "\n",
      "A LINHA NUMERO7\n",
      "\n",
      "A LINHA NUMERO9\n",
      "\n",
      "A LINHA NUMERO11\n",
      "\n",
      "A LINHA NUMERO13\n",
      "\n",
      "A LINHA NUMERO15\n",
      "\n",
      "A LINHA NUMERO17\n",
      "\n",
      "A LINHA NUMERO19\n",
      "\n",
      "A LINHA NUMERO21\n",
      "\n",
      "A LINHA NUMERO23\n",
      "\n",
      "A LINHA NUMERO25\n",
      "\n",
      "A LINHA NUMERO27\n",
      "\n",
      "A LINHA NUMERO29\n",
      "\n",
      "A LINHA NUMERO31\n",
      "\n",
      "A LINHA NUMERO33\n",
      "\n",
      "A LINHA NUMERO35\n",
      "\n",
      "A LINHA NUMERO37\n",
      "\n",
      "A LINHA NUMERO39\n",
      "\n",
      "A LINHA NUMERO41\n",
      "\n",
      "A LINHA NUMERO43\n",
      "\n",
      "A LINHA NUMERO45\n",
      "\n",
      "A LINHA NUMERO47\n",
      "\n",
      "A LINHA NUMERO49\n"
     ]
    },
    {
     "data": {
      "text/plain": [
       "''"
      ]
     },
     "execution_count": 27,
     "metadata": {},
     "output_type": "execute_result"
    }
   ],
   "source": [
    "with open('dados/example.txt', 'r') as file:\n",
    "    linha = file.readline()\n",
    "    for line in file:\n",
    "        print(line.upper())\n",
    "        line = file.readline()\n",
    "\n",
    "line"
   ]
  },
  {
   "cell_type": "code",
   "execution_count": 26,
   "metadata": {},
   "outputs": [
    {
     "name": "stdout",
     "output_type": "stream",
     "text": [
      "A LINHA NUMERO0\n",
      "\n",
      "A LINHA NUMERO1\n",
      "\n",
      "A LINHA NUMERO2\n",
      "\n",
      "A LINHA NUMERO3\n",
      "\n",
      "A LINHA NUMERO4\n",
      "\n",
      "A LINHA NUMERO5\n",
      "\n",
      "A LINHA NUMERO6\n",
      "\n",
      "A LINHA NUMERO7\n",
      "\n",
      "A LINHA NUMERO8\n",
      "\n",
      "A LINHA NUMERO9\n",
      "\n",
      "A LINHA NUMERO10\n",
      "\n",
      "A LINHA NUMERO11\n",
      "\n",
      "A LINHA NUMERO12\n",
      "\n",
      "A LINHA NUMERO13\n",
      "\n",
      "A LINHA NUMERO14\n",
      "\n",
      "A LINHA NUMERO15\n",
      "\n",
      "A LINHA NUMERO16\n",
      "\n",
      "A LINHA NUMERO17\n",
      "\n",
      "A LINHA NUMERO18\n",
      "\n",
      "A LINHA NUMERO19\n",
      "\n",
      "A LINHA NUMERO20\n",
      "\n",
      "A LINHA NUMERO21\n",
      "\n",
      "A LINHA NUMERO22\n",
      "\n",
      "A LINHA NUMERO23\n",
      "\n",
      "A LINHA NUMERO24\n",
      "\n",
      "A LINHA NUMERO25\n",
      "\n",
      "A LINHA NUMERO26\n",
      "\n",
      "A LINHA NUMERO27\n",
      "\n",
      "A LINHA NUMERO28\n",
      "\n",
      "A LINHA NUMERO29\n",
      "\n",
      "A LINHA NUMERO30\n",
      "\n",
      "A LINHA NUMERO31\n",
      "\n",
      "A LINHA NUMERO32\n",
      "\n",
      "A LINHA NUMERO33\n",
      "\n",
      "A LINHA NUMERO34\n",
      "\n",
      "A LINHA NUMERO35\n",
      "\n",
      "A LINHA NUMERO36\n",
      "\n",
      "A LINHA NUMERO37\n",
      "\n",
      "A LINHA NUMERO38\n",
      "\n",
      "A LINHA NUMERO39\n",
      "\n",
      "A LINHA NUMERO40\n",
      "\n",
      "A LINHA NUMERO41\n",
      "\n",
      "A LINHA NUMERO42\n",
      "\n",
      "A LINHA NUMERO43\n",
      "\n",
      "A LINHA NUMERO44\n",
      "\n",
      "A LINHA NUMERO45\n",
      "\n",
      "A LINHA NUMERO46\n",
      "\n",
      "A LINHA NUMERO47\n",
      "\n",
      "A LINHA NUMERO48\n",
      "\n",
      "A LINHA NUMERO49\n"
     ]
    },
    {
     "data": {
      "text/plain": [
       "''"
      ]
     },
     "execution_count": 26,
     "metadata": {},
     "output_type": "execute_result"
    }
   ],
   "source": [
    "with open('dados/example.txt', 'r') as file:\n",
    "    line = file.readline()\n",
    "    for n in range(50):\n",
    "        print(line.upper())\n",
    "        line = file.readline()\n",
    "\n",
    "line"
   ]
  },
  {
   "cell_type": "markdown",
   "metadata": {},
   "source": [
    "Retorna todas as linhas do arquivo como uma lista."
   ]
  },
  {
   "cell_type": "code",
   "execution_count": 52,
   "metadata": {},
   "outputs": [
    {
     "name": "stdout",
     "output_type": "stream",
     "text": [
      "['a linha numero0\\n', 'a linha numero1\\n', 'a linha numero2\\n', 'a linha numero3\\n', 'a linha numero4\\n', 'a linha numero5\\n', 'a linha numero6\\n', 'a linha numero7\\n', 'a linha numero8\\n', 'a linha numero9\\n', 'a linha numero10\\n', 'a linha numero11\\n', 'a linha numero12\\n', 'a linha numero13\\n', 'a linha numero14\\n', 'a linha numero15\\n', 'a linha numero16\\n', 'a linha numero17\\n', 'a linha numero18\\n', 'a linha numero19\\n', 'a linha numero20\\n', 'a linha numero21\\n', 'a linha numero22\\n', 'a linha numero23\\n', 'a linha numero24\\n', 'a linha numero25\\n', 'a linha numero26\\n', 'a linha numero27\\n', 'a linha numero28\\n', 'a linha numero29\\n', 'a linha numero30\\n', 'a linha numero31\\n', 'a linha numero32\\n', 'a linha numero33\\n', 'a linha numero34\\n', 'a linha numero35\\n', 'a linha numero36\\n', 'a linha numero37\\n', 'a linha numero38\\n', 'a linha numero39\\n', 'a linha numero40\\n', 'a linha numero41\\n', 'a linha numero42\\n', 'a linha numero43\\n', 'a linha numero44\\n', 'a linha numero45\\n', 'a linha numero46\\n', 'a linha numero47\\n', 'a linha numero48\\n', 'a linha numero49']\n"
     ]
    }
   ],
   "source": [
    "with open('dados/example.txt', 'r') as file:\n",
    "    lines = file.readlines()\n",
    "    # for line in lines:\n",
    "    #     print(line.strip())\n",
    "print(lines)"
   ]
  },
  {
   "cell_type": "markdown",
   "metadata": {},
   "source": [
    "### Métopdos de escrita\n",
    "Escrever arquivos usando os modos de abertura 'w' para escrita (sobrescrevendo o conteúdo existente) e 'a' para adicionar (mantendo o conteúdo existente e adicionando ao final)."
   ]
  },
  {
   "cell_type": "markdown",
   "metadata": {},
   "source": [
    "Escreve uma string no arquivo."
   ]
  },
  {
   "cell_type": "code",
   "execution_count": 56,
   "metadata": {},
   "outputs": [],
   "source": [
    "with open('dados/example.txt', 'w') as file:\n",
    "    file.write('a linha numero0\\n\\ta linha numero1\\n\\t\\t\\ta linha numero2\\na linha numero3\\na linha numero4\\na linha numero5\\na linha numero6\\na linha numero7\\na linha numero8\\na linha numero9\\na linha numero10\\na linha numero11\\na linha numero12\\na linha numero13\\na linha numero14\\na linha numero15\\na linha numero16\\na linha numero17\\na linha numero18\\na linha numero19\\na linha numero20\\na linha numero21\\na linha numero22\\na linha numero23\\na linha numero24\\na linha numero25\\na linha numero26\\na linha numero27\\na linha numero28\\na linha numero29\\na linha numero30\\na linha numero31\\na linha numero32\\na linha numero33\\na linha numero34\\na linha numero35\\na linha numero36\\na linha numero37\\na linha numero38\\na linha numero39\\na linha numero40\\na linha numero41\\na linha numero42\\na linha numero43\\na linha numero44\\na linha numero45\\na linha numero46\\na linha numero47\\na linha numero48\\na linha numero49')\n"
   ]
  },
  {
   "cell_type": "markdown",
   "metadata": {},
   "source": [
    "Escreve uma lista de strings no arquivo."
   ]
  },
  {
   "cell_type": "code",
   "execution_count": 63,
   "metadata": {},
   "outputs": [],
   "source": [
    "lines = ['Primeira linha\\n', 'Segunda linha\\n']\n",
    "\n",
    "with open('dados/example.txt', 'w') as file:\n",
    "    file.writelines(lines)\n",
    "    file.writelines(['a linha numero'+ str(i) + '\\n' for i in range(50)])\n"
   ]
  },
  {
   "cell_type": "markdown",
   "metadata": {},
   "source": [
    "Adiciona uma string no final do arquivo"
   ]
  },
  {
   "cell_type": "code",
   "execution_count": null,
   "metadata": {},
   "outputs": [],
   "source": [
    "with open('dados/exemplo.txt', 'a') as arquivo:\n",
    "    arquivo.write('\\nNova linha no final do arquivo')\n"
   ]
  },
  {
   "cell_type": "markdown",
   "metadata": {},
   "source": [
    "## Desafio\n",
    "\n",
    "Desenvolver um programa que adicione um cabeçalho a um arquivo existente sem sobrescrever seu conteúdo original."
   ]
  },
  {
   "cell_type": "markdown",
   "metadata": {},
   "source": [
    "### manipular arquivos em diferentes formatos como CSV e JSON. A importância de bibliotecas específicas."
   ]
  }
 ],
 "metadata": {
  "kernelspec": {
   "display_name": ".venv",
   "language": "python",
   "name": "python3"
  },
  "language_info": {
   "codemirror_mode": {
    "name": "ipython",
    "version": 3
   },
   "file_extension": ".py",
   "mimetype": "text/x-python",
   "name": "python",
   "nbconvert_exporter": "python",
   "pygments_lexer": "ipython3",
   "version": "3.12.5"
  }
 },
 "nbformat": 4,
 "nbformat_minor": 2
}
