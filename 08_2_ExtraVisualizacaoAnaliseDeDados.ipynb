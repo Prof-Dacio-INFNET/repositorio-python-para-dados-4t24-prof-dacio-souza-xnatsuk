{
 "cells": [
  {
   "cell_type": "markdown",
   "metadata": {},
   "source": [
    "- Análise de Dados com Pandas\n",
    "    - Análise Exploratória de Dados\n",
    "      - Métodos de resumo estatístico\n",
    "      - Visualização de dados com Matplotlib e Seaborn\n",
    "    - Manipulação Avançada de Dados\n",
    "      - Junção, combinação e remodelação de DataFrames\n",
    "      - Técnicas de slicing, loc e iloc\n",
    "      - Trabalhando com datas e séries temporais\n",
    "    - Casos de Uso Avançados\n",
    "      - Análise de séries temporais\n",
    "      - Dados de geolocalização\n",
    "      - Integração do Pandas com outras bibliotecas (Scikit-learn, SciPy)"
   ]
  },
  {
   "cell_type": "markdown",
   "metadata": {},
   "source": [
    "***A Análise Exploratória de Dados (EDA)*** \n",
    "\n",
    "É um passo crucial no processo de análise de dados, permitindo compreender melhor as características fundamentais dos dados através de resumos estatísticos e visualizações gráficas. \n",
    "\n",
    "Aplicando métodos de EDA usando Pandas e utilizando Matplotlib e Seaborn para visualização de dados."
   ]
  },
  {
   "cell_type": "markdown",
   "metadata": {},
   "source": [
    "## Métodos de Resumo Estatístico\n",
    "\n",
    "\n",
    "Descrevendo os dados: Utilize describe() para obter um resumo estatístico que inclui tendência central, dispersão e forma da distribuição dos dados numéricos.\n"
   ]
  },
  {
   "cell_type": "code",
   "execution_count": 22,
   "metadata": {
    "metadata": {}
   },
   "outputs": [
    {
     "data": {
      "text/html": [
       "<div>\n",
       "<style scoped>\n",
       "    .dataframe tbody tr th:only-of-type {\n",
       "        vertical-align: middle;\n",
       "    }\n",
       "\n",
       "    .dataframe tbody tr th {\n",
       "        vertical-align: top;\n",
       "    }\n",
       "\n",
       "    .dataframe thead th {\n",
       "        text-align: right;\n",
       "    }\n",
       "</style>\n",
       "<table border=\"1\" class=\"dataframe\">\n",
       "  <thead>\n",
       "    <tr style=\"text-align: right;\">\n",
       "      <th></th>\n",
       "      <th>Produto</th>\n",
       "      <th>Preço</th>\n",
       "      <th>Quantidade</th>\n",
       "      <th>Data</th>\n",
       "    </tr>\n",
       "  </thead>\n",
       "  <tbody>\n",
       "    <tr>\n",
       "      <th>0</th>\n",
       "      <td>Livro</td>\n",
       "      <td>118.84</td>\n",
       "      <td>40</td>\n",
       "      <td>2023-01-01</td>\n",
       "    </tr>\n",
       "    <tr>\n",
       "      <th>1</th>\n",
       "      <td>Caderno</td>\n",
       "      <td>46.32</td>\n",
       "      <td>78</td>\n",
       "      <td>2023-01-02</td>\n",
       "    </tr>\n",
       "    <tr>\n",
       "      <th>2</th>\n",
       "      <td>Livro</td>\n",
       "      <td>62.33</td>\n",
       "      <td>95</td>\n",
       "      <td>2023-01-03</td>\n",
       "    </tr>\n",
       "    <tr>\n",
       "      <th>3</th>\n",
       "      <td>Caneta</td>\n",
       "      <td>92.26</td>\n",
       "      <td>60</td>\n",
       "      <td>2023-01-04</td>\n",
       "    </tr>\n",
       "    <tr>\n",
       "      <th>4</th>\n",
       "      <td>Caderno</td>\n",
       "      <td>48.20</td>\n",
       "      <td>31</td>\n",
       "      <td>2023-01-05</td>\n",
       "    </tr>\n",
       "    <tr>\n",
       "      <th>5</th>\n",
       "      <td>Caderno</td>\n",
       "      <td>61.92</td>\n",
       "      <td>27</td>\n",
       "      <td>2023-01-06</td>\n",
       "    </tr>\n",
       "    <tr>\n",
       "      <th>6</th>\n",
       "      <td>Caneta</td>\n",
       "      <td>37.59</td>\n",
       "      <td>81</td>\n",
       "      <td>2023-01-07</td>\n",
       "    </tr>\n",
       "    <tr>\n",
       "      <th>7</th>\n",
       "      <td>Livro</td>\n",
       "      <td>74.38</td>\n",
       "      <td>84</td>\n",
       "      <td>2023-01-08</td>\n",
       "    </tr>\n",
       "    <tr>\n",
       "      <th>8</th>\n",
       "      <td>Livro</td>\n",
       "      <td>16.25</td>\n",
       "      <td>95</td>\n",
       "      <td>2023-01-09</td>\n",
       "    </tr>\n",
       "    <tr>\n",
       "      <th>9</th>\n",
       "      <td>Caneta</td>\n",
       "      <td>121.97</td>\n",
       "      <td>56</td>\n",
       "      <td>2023-01-10</td>\n",
       "    </tr>\n",
       "    <tr>\n",
       "      <th>10</th>\n",
       "      <td>Livro</td>\n",
       "      <td>20.77</td>\n",
       "      <td>51</td>\n",
       "      <td>2023-01-11</td>\n",
       "    </tr>\n",
       "    <tr>\n",
       "      <th>11</th>\n",
       "      <td>Livro</td>\n",
       "      <td>82.64</td>\n",
       "      <td>85</td>\n",
       "      <td>2023-01-12</td>\n",
       "    </tr>\n",
       "    <tr>\n",
       "      <th>12</th>\n",
       "      <td>Caderno</td>\n",
       "      <td>52.95</td>\n",
       "      <td>66</td>\n",
       "      <td>2023-01-13</td>\n",
       "    </tr>\n",
       "    <tr>\n",
       "      <th>13</th>\n",
       "      <td>Livro</td>\n",
       "      <td>90.86</td>\n",
       "      <td>65</td>\n",
       "      <td>2023-01-14</td>\n",
       "    </tr>\n",
       "    <tr>\n",
       "      <th>14</th>\n",
       "      <td>Livro</td>\n",
       "      <td>144.32</td>\n",
       "      <td>52</td>\n",
       "      <td>2023-01-15</td>\n",
       "    </tr>\n",
       "    <tr>\n",
       "      <th>15</th>\n",
       "      <td>Caneta</td>\n",
       "      <td>100.38</td>\n",
       "      <td>5</td>\n",
       "      <td>2023-01-16</td>\n",
       "    </tr>\n",
       "    <tr>\n",
       "      <th>16</th>\n",
       "      <td>Caneta</td>\n",
       "      <td>14.95</td>\n",
       "      <td>15</td>\n",
       "      <td>2023-01-17</td>\n",
       "    </tr>\n",
       "    <tr>\n",
       "      <th>17</th>\n",
       "      <td>Caneta</td>\n",
       "      <td>70.26</td>\n",
       "      <td>80</td>\n",
       "      <td>2023-01-18</td>\n",
       "    </tr>\n",
       "    <tr>\n",
       "      <th>18</th>\n",
       "      <td>Caneta</td>\n",
       "      <td>81.40</td>\n",
       "      <td>18</td>\n",
       "      <td>2023-01-19</td>\n",
       "    </tr>\n",
       "    <tr>\n",
       "      <th>19</th>\n",
       "      <td>Caneta</td>\n",
       "      <td>85.06</td>\n",
       "      <td>76</td>\n",
       "      <td>2023-01-20</td>\n",
       "    </tr>\n",
       "    <tr>\n",
       "      <th>20</th>\n",
       "      <td>Caneta</td>\n",
       "      <td>105.39</td>\n",
       "      <td>99</td>\n",
       "      <td>2023-01-21</td>\n",
       "    </tr>\n",
       "    <tr>\n",
       "      <th>21</th>\n",
       "      <td>Caderno</td>\n",
       "      <td>48.86</td>\n",
       "      <td>11</td>\n",
       "      <td>2023-01-22</td>\n",
       "    </tr>\n",
       "    <tr>\n",
       "      <th>22</th>\n",
       "      <td>Livro</td>\n",
       "      <td>28.04</td>\n",
       "      <td>50</td>\n",
       "      <td>2023-01-23</td>\n",
       "    </tr>\n",
       "    <tr>\n",
       "      <th>23</th>\n",
       "      <td>Caderno</td>\n",
       "      <td>64.97</td>\n",
       "      <td>35</td>\n",
       "      <td>2023-01-24</td>\n",
       "    </tr>\n",
       "    <tr>\n",
       "      <th>24</th>\n",
       "      <td>Livro</td>\n",
       "      <td>143.90</td>\n",
       "      <td>20</td>\n",
       "      <td>2023-01-25</td>\n",
       "    </tr>\n",
       "    <tr>\n",
       "      <th>25</th>\n",
       "      <td>Caneta</td>\n",
       "      <td>36.20</td>\n",
       "      <td>46</td>\n",
       "      <td>2023-01-26</td>\n",
       "    </tr>\n",
       "    <tr>\n",
       "      <th>26</th>\n",
       "      <td>Livro</td>\n",
       "      <td>136.56</td>\n",
       "      <td>43</td>\n",
       "      <td>2023-01-27</td>\n",
       "    </tr>\n",
       "    <tr>\n",
       "      <th>27</th>\n",
       "      <td>Caderno</td>\n",
       "      <td>86.13</td>\n",
       "      <td>58</td>\n",
       "      <td>2023-01-28</td>\n",
       "    </tr>\n",
       "    <tr>\n",
       "      <th>28</th>\n",
       "      <td>Livro</td>\n",
       "      <td>73.97</td>\n",
       "      <td>48</td>\n",
       "      <td>2023-01-29</td>\n",
       "    </tr>\n",
       "    <tr>\n",
       "      <th>29</th>\n",
       "      <td>Livro</td>\n",
       "      <td>133.49</td>\n",
       "      <td>87</td>\n",
       "      <td>2023-01-30</td>\n",
       "    </tr>\n",
       "  </tbody>\n",
       "</table>\n",
       "</div>"
      ],
      "text/plain": [
       "    Produto   Preço  Quantidade       Data\n",
       "0     Livro  118.84          40 2023-01-01\n",
       "1   Caderno   46.32          78 2023-01-02\n",
       "2     Livro   62.33          95 2023-01-03\n",
       "3    Caneta   92.26          60 2023-01-04\n",
       "4   Caderno   48.20          31 2023-01-05\n",
       "5   Caderno   61.92          27 2023-01-06\n",
       "6    Caneta   37.59          81 2023-01-07\n",
       "7     Livro   74.38          84 2023-01-08\n",
       "8     Livro   16.25          95 2023-01-09\n",
       "9    Caneta  121.97          56 2023-01-10\n",
       "10    Livro   20.77          51 2023-01-11\n",
       "11    Livro   82.64          85 2023-01-12\n",
       "12  Caderno   52.95          66 2023-01-13\n",
       "13    Livro   90.86          65 2023-01-14\n",
       "14    Livro  144.32          52 2023-01-15\n",
       "15   Caneta  100.38           5 2023-01-16\n",
       "16   Caneta   14.95          15 2023-01-17\n",
       "17   Caneta   70.26          80 2023-01-18\n",
       "18   Caneta   81.40          18 2023-01-19\n",
       "19   Caneta   85.06          76 2023-01-20\n",
       "20   Caneta  105.39          99 2023-01-21\n",
       "21  Caderno   48.86          11 2023-01-22\n",
       "22    Livro   28.04          50 2023-01-23\n",
       "23  Caderno   64.97          35 2023-01-24\n",
       "24    Livro  143.90          20 2023-01-25\n",
       "25   Caneta   36.20          46 2023-01-26\n",
       "26    Livro  136.56          43 2023-01-27\n",
       "27  Caderno   86.13          58 2023-01-28\n",
       "28    Livro   73.97          48 2023-01-29\n",
       "29    Livro  133.49          87 2023-01-30"
      ]
     },
     "execution_count": 22,
     "metadata": {},
     "output_type": "execute_result"
    }
   ],
   "source": [
    "import pandas as pd\n",
    "df = pd.read_excel('dadosFictícios/Exemplo_Aula_10.xlsx')\n",
    "# Resumo estatístico das colunas numéricas\n",
    "df.describe()\n",
    "df"
   ]
  },
  {
   "cell_type": "markdown",
   "metadata": {},
   "source": [
    "Correlação entre variáveis: O método corr() é útil para encontrar a correlação entre colunas numéricas em um DataFrame. Correlações podem indicar a relação entre variáveis.\n"
   ]
  },
  {
   "cell_type": "code",
   "execution_count": 23,
   "metadata": {
    "metadata": {}
   },
   "outputs": [
    {
     "name": "stdout",
     "output_type": "stream",
     "text": [
      "<class 'pandas.core.frame.DataFrame'>\n",
      "RangeIndex: 30 entries, 0 to 29\n",
      "Data columns (total 4 columns):\n",
      " #   Column      Non-Null Count  Dtype         \n",
      "---  ------      --------------  -----         \n",
      " 0   Produto     30 non-null     object        \n",
      " 1   Preço       30 non-null     float64       \n",
      " 2   Quantidade  30 non-null     int64         \n",
      " 3   Data        30 non-null     datetime64[ns]\n",
      "dtypes: datetime64[ns](1), float64(1), int64(1), object(1)\n",
      "memory usage: 1.1+ KB\n"
     ]
    }
   ],
   "source": [
    "# Calculando a correlação\n",
    "df.info()"
   ]
  },
  {
   "cell_type": "markdown",
   "metadata": {},
   "source": [
    "Contagens únicas e valores modais: nunique() e mode() ajudam a identificar a diversidade de valores e os valores mais frequentes em colunas categóricas."
   ]
  },
  {
   "cell_type": "code",
   "execution_count": 25,
   "metadata": {
    "metadata": {}
   },
   "outputs": [
    {
     "name": "stdout",
     "output_type": "stream",
     "text": [
      "Produto        3\n",
      "Preço         30\n",
      "Quantidade    29\n",
      "Data          30\n",
      "dtype: int64\n"
     ]
    }
   ],
   "source": [
    "# Número de valores únicos por coluna\n",
    "print(df.nunique())\n"
   ]
  },
  {
   "cell_type": "markdown",
   "metadata": {},
   "source": [
    "## Visualização de Dados com Matplotlib e Seaborn\n",
    "\n",
    "\n",
    "Visualizações são uma parte integral da EDA, fornecendo insights rápidos que podem não ser óbvios apenas por resumos numéricos."
   ]
  },
  {
   "cell_type": "markdown",
   "metadata": {
    "metadata": {}
   },
   "source": [
    "Histogramas: Úteis para visualizar a distribuição de dados numéricos.\n"
   ]
  },
  {
   "cell_type": "markdown",
   "metadata": {},
   "source": [
    "Instalar matplot\n",
    "\n",
    "```bash\n",
    "%pip install matplotlib\n",
    "```\n"
   ]
  },
  {
   "cell_type": "code",
   "execution_count": 37,
   "metadata": {
    "metadata": {}
   },
   "outputs": [
    {
     "data": {
      "image/png": "[encoded data removed]",
      "text/plain": [
       "<Figure size 1000x800 with 1 Axes>"
      ]
     },
     "metadata": {},
     "output_type": "display_data"
    }
   ],
   "source": [
    "import matplotlib.pyplot as plt\n",
    "\n",
    "plt.figure(figsize=(10,8))\n",
    "plt.title(\"Gráfico de Histograma\")\n",
    "df['Preço'].hist(bins=15, edgecolor='k')\n",
    "plt.ylabel(\"Preço\")\n",
    "plt.show()"
   ]
  },
  {
   "cell_type": "markdown",
   "metadata": {},
   "source": [
    "Gráficos de dispersão: Bom para identificar relações entre variáveis.\n"
   ]
  },
  {
   "cell_type": "code",
   "execution_count": 30,
   "metadata": {},
   "outputs": [
    {
     "data": {
      "image/png": "[encoded data removed]",
      "text/plain": [
       "<Figure size 640x480 with 1 Axes>"
      ]
     },
     "metadata": {},
     "output_type": "display_data"
    }
   ],
   "source": [
    "plt.scatter(df['Quantidade'], df['Preço'])\n",
    "plt.show()\n"
   ]
  },
  {
   "cell_type": "markdown",
   "metadata": {},
   "source": [
    "Boxplots: Oferecem uma boa visualização da distribuição de dados, destacando outliers.\n",
    "\n",
    "#### **Seaborn** fornece um conjunto de gráficos que interagem muito bem para visualização de dados e integrado com matplotlib e pandas.\n",
    "\n",
    "Instalando \n",
    "```bash\n",
    "%pip install seaborn\n",
    "```\n"
   ]
  },
  {
   "cell_type": "code",
   "execution_count": 42,
   "metadata": {
    "metadata": {}
   },
   "outputs": [
    {
     "data": {
      "image/png": "[encoded data removed]",
      "text/plain": [
       "<Figure size 640x480 with 1 Axes>"
      ]
     },
     "metadata": {},
     "output_type": "display_data"
    }
   ],
   "source": [
    "import seaborn as sns\n",
    "\n",
    "sns.boxplot(x='Quantidade', y='Preço', data=df)\n",
    "plt.show()"
   ]
  },
  {
   "cell_type": "markdown",
   "metadata": {},
   "source": [
    "## Exemplo Prático\n",
    "\n",
    "Suponha que temos um DataFrame df_vendas com dados sobre vendas de produtos, incluindo as colunas categoria, valor_venda e quantidade. Vamos realizar uma EDA básica nesses dados."
   ]
  },
  {
   "cell_type": "code",
   "execution_count": 45,
   "metadata": {},
   "outputs": [
    {
     "name": "stdout",
     "output_type": "stream",
     "text": [
      "            Preço  Quantidade                 Data\n",
      "count   30.000000   30.000000                   30\n",
      "mean    76.038667   55.233333  2023-01-15 12:00:00\n",
      "min     14.950000    5.000000  2023-01-01 00:00:00\n",
      "25%     48.365000   36.250000  2023-01-08 06:00:00\n",
      "50%     74.175000   54.000000  2023-01-15 12:00:00\n",
      "75%     98.350000   79.500000  2023-01-22 18:00:00\n",
      "max    144.320000   99.000000  2023-01-30 00:00:00\n",
      "std     37.863440   27.142896                  NaN\n",
      "              Preço  Quantidade\n",
      "Preço       1.00000    -0.02859\n",
      "Quantidade -0.02859     1.00000\n"
     ]
    },
    {
     "data": {
      "image/png": "[encoded data removed]",
      "text/plain": [
       "<Figure size 800x400 with 1 Axes>"
      ]
     },
     "metadata": {},
     "output_type": "display_data"
    },
    {
     "data": {
      "image/png": "[encoded data removed]",
      "text/plain": [
       "<Figure size 800x400 with 1 Axes>"
      ]
     },
     "metadata": {},
     "output_type": "display_data"
    }
   ],
   "source": [
    "# Resumo estatístico\n",
    "print(df.describe())\n",
    "\n",
    "# Correlação entre 'Preço' e 'Quantidade'\n",
    "print(df[['Preço', 'Quantidade']].corr())\n",
    "\n",
    "# Visualização da distribuição de 'Preço'\n",
    "plt.figure(figsize=(8, 4))\n",
    "sns.histplot(df['Preço'], bins=30, kde=True)\n",
    "plt.title('Distribuição do Valor de Venda')\n",
    "plt.show()\n",
    "\n",
    "# Boxplot de 'Preço' por 'categoria'\n",
    "plt.figure(figsize=(8, 4))\n",
    "sns.boxplot(x='Produto', y='Preço', data=df)\n",
    "plt.title('Valor de Venda por Produto')\n",
    "plt.show()\n"
   ]
  },
  {
   "cell_type": "markdown",
   "metadata": {},
   "source": [
    "# Manipulação Avançada de Dados\n",
    "\n",
    "Após uma compreensão inicial dos dados por meio da análise exploratória, o próximo passo é aprofundar-se na manipulação avançada de dados. \n",
    "\n",
    "Essa etapa permite preparar os dados para análises mais complexas, incluindo a modelagem de dados. \n",
    "\n",
    "Vamos explorar técnicas avançadas de manipulação usando Pandas, abrangendo junção, combinação, remodelação de DataFrames, e trabalhando com datas e séries temporais.\n"
   ]
  },
  {
   "cell_type": "markdown",
   "metadata": {},
   "source": [
    "\n",
    "### Junção, Combinação e Remodelação de DataFrames\n",
    "  - Junção de DataFrames: Utilize merge() para combinar DataFrames baseando-se em colunas-chave, similar a junções SQL.\n"
   ]
  },
  {
   "cell_type": "code",
   "execution_count": 46,
   "metadata": {},
   "outputs": [
    {
     "ename": "NameError",
     "evalue": "name 'df1' is not defined",
     "output_type": "error",
     "traceback": [
      "\u001b[1;31m---------------------------------------------------------------------------\u001b[0m",
      "\u001b[1;31mNameError\u001b[0m                                 Traceback (most recent call last)",
      "Cell \u001b[1;32mIn[46], line 2\u001b[0m\n\u001b[0;32m      1\u001b[0m \u001b[38;5;66;03m# Junção de dois DataFrames\u001b[39;00m\n\u001b[1;32m----> 2\u001b[0m df_juncao \u001b[38;5;241m=\u001b[39m pd\u001b[38;5;241m.\u001b[39mmerge(\u001b[43mdf1\u001b[49m, df2, on\u001b[38;5;241m=\u001b[39m\u001b[38;5;124m'\u001b[39m\u001b[38;5;124mcoluna_chave\u001b[39m\u001b[38;5;124m'\u001b[39m)\n",
      "\u001b[1;31mNameError\u001b[0m: name 'df1' is not defined"
     ]
    }
   ],
   "source": [
    "# Junção de dois DataFrames\n",
    "df_juncao = pd.merge(df1, df2, on='coluna_chave')\n"
   ]
  },
  {
   "cell_type": "markdown",
   "metadata": {},
   "source": [
    "Concatenação de DataFrames: concat() é usado para concatenar DataFrames verticalmente ou horizontalmente.\n"
   ]
  },
  {
   "cell_type": "code",
   "execution_count": null,
   "metadata": {},
   "outputs": [],
   "source": [
    "# Concatenação vertical\n",
    "df_concat_vert = pd.concat([df1, df2])\n",
    "\n",
    "# Concatenação horizontal\n",
    "df_concat_horiz = pd.concat([df1, df2], axis=1)\n"
   ]
  },
  {
   "cell_type": "markdown",
   "metadata": {},
   "source": [
    "Pivotamento e Mesclagem de Dados: pivot() e melt() permitem remodelar DataFrames, facilitando a análise.\n"
   ]
  },
  {
   "cell_type": "code",
   "execution_count": null,
   "metadata": {},
   "outputs": [],
   "source": [
    "# Pivotando\n",
    "df_pivotado = df.pivot(index='data', columns='categoria', values='valor')\n",
    "\n",
    "# Mesclagem (unpivot)\n",
    "df_mesclado = df.melt(id_vars=['data'], value_vars=['categoria'])\n"
   ]
  },
  {
   "cell_type": "markdown",
   "metadata": {},
   "source": [
    "## Trabalhando com Datas e Séries Temporais\n",
    "\n",
    "Pandas oferece poderosas funcionalidades para manipulação de datas e séries temporais, tornando mais fácil trabalhar com dados temporais.\n",
    "\n",
    "Conversão de strings para datetime: Use to_datetime() para converter colunas de data em formato string para datetime, facilitando operações subsequentes.\n"
   ]
  },
  {
   "cell_type": "code",
   "execution_count": 47,
   "metadata": {},
   "outputs": [
    {
     "ename": "KeyError",
     "evalue": "'data'",
     "output_type": "error",
     "traceback": [
      "\u001b[1;31m---------------------------------------------------------------------------\u001b[0m",
      "\u001b[1;31mKeyError\u001b[0m                                  Traceback (most recent call last)",
      "File \u001b[1;32mc:\\Users\\dacio\\OneDrive\\INFNET\\PythonDados\\doGit\\pythonDados3T24\\pythonDados4T24\\.venv\\Lib\\site-packages\\pandas\\core\\indexes\\base.py:3805\u001b[0m, in \u001b[0;36mIndex.get_loc\u001b[1;34m(self, key)\u001b[0m\n\u001b[0;32m   3804\u001b[0m \u001b[38;5;28;01mtry\u001b[39;00m:\n\u001b[1;32m-> 3805\u001b[0m     \u001b[38;5;28;01mreturn\u001b[39;00m \u001b[38;5;28;43mself\u001b[39;49m\u001b[38;5;241;43m.\u001b[39;49m\u001b[43m_engine\u001b[49m\u001b[38;5;241;43m.\u001b[39;49m\u001b[43mget_loc\u001b[49m\u001b[43m(\u001b[49m\u001b[43mcasted_key\u001b[49m\u001b[43m)\u001b[49m\n\u001b[0;32m   3806\u001b[0m \u001b[38;5;28;01mexcept\u001b[39;00m \u001b[38;5;167;01mKeyError\u001b[39;00m \u001b[38;5;28;01mas\u001b[39;00m err:\n",
      "File \u001b[1;32mindex.pyx:167\u001b[0m, in \u001b[0;36mpandas._libs.index.IndexEngine.get_loc\u001b[1;34m()\u001b[0m\n",
      "File \u001b[1;32mindex.pyx:196\u001b[0m, in \u001b[0;36mpandas._libs.index.IndexEngine.get_loc\u001b[1;34m()\u001b[0m\n",
      "File \u001b[1;32mpandas\\\\_libs\\\\hashtable_class_helper.pxi:7081\u001b[0m, in \u001b[0;36mpandas._libs.hashtable.PyObjectHashTable.get_item\u001b[1;34m()\u001b[0m\n",
      "File \u001b[1;32mpandas\\\\_libs\\\\hashtable_class_helper.pxi:7089\u001b[0m, in \u001b[0;36mpandas._libs.hashtable.PyObjectHashTable.get_item\u001b[1;34m()\u001b[0m\n",
      "\u001b[1;31mKeyError\u001b[0m: 'data'",
      "\nThe above exception was the direct cause of the following exception:\n",
      "\u001b[1;31mKeyError\u001b[0m                                  Traceback (most recent call last)",
      "Cell \u001b[1;32mIn[47], line 1\u001b[0m\n\u001b[1;32m----> 1\u001b[0m df[\u001b[38;5;124m'\u001b[39m\u001b[38;5;124mdata\u001b[39m\u001b[38;5;124m'\u001b[39m] \u001b[38;5;241m=\u001b[39m pd\u001b[38;5;241m.\u001b[39mto_datetime(\u001b[43mdf\u001b[49m\u001b[43m[\u001b[49m\u001b[38;5;124;43m'\u001b[39;49m\u001b[38;5;124;43mdata\u001b[39;49m\u001b[38;5;124;43m'\u001b[39;49m\u001b[43m]\u001b[49m)\n",
      "File \u001b[1;32mc:\\Users\\dacio\\OneDrive\\INFNET\\PythonDados\\doGit\\pythonDados3T24\\pythonDados4T24\\.venv\\Lib\\site-packages\\pandas\\core\\frame.py:4102\u001b[0m, in \u001b[0;36mDataFrame.__getitem__\u001b[1;34m(self, key)\u001b[0m\n\u001b[0;32m   4100\u001b[0m \u001b[38;5;28;01mif\u001b[39;00m \u001b[38;5;28mself\u001b[39m\u001b[38;5;241m.\u001b[39mcolumns\u001b[38;5;241m.\u001b[39mnlevels \u001b[38;5;241m>\u001b[39m \u001b[38;5;241m1\u001b[39m:\n\u001b[0;32m   4101\u001b[0m     \u001b[38;5;28;01mreturn\u001b[39;00m \u001b[38;5;28mself\u001b[39m\u001b[38;5;241m.\u001b[39m_getitem_multilevel(key)\n\u001b[1;32m-> 4102\u001b[0m indexer \u001b[38;5;241m=\u001b[39m \u001b[38;5;28;43mself\u001b[39;49m\u001b[38;5;241;43m.\u001b[39;49m\u001b[43mcolumns\u001b[49m\u001b[38;5;241;43m.\u001b[39;49m\u001b[43mget_loc\u001b[49m\u001b[43m(\u001b[49m\u001b[43mkey\u001b[49m\u001b[43m)\u001b[49m\n\u001b[0;32m   4103\u001b[0m \u001b[38;5;28;01mif\u001b[39;00m is_integer(indexer):\n\u001b[0;32m   4104\u001b[0m     indexer \u001b[38;5;241m=\u001b[39m [indexer]\n",
      "File \u001b[1;32mc:\\Users\\dacio\\OneDrive\\INFNET\\PythonDados\\doGit\\pythonDados3T24\\pythonDados4T24\\.venv\\Lib\\site-packages\\pandas\\core\\indexes\\base.py:3812\u001b[0m, in \u001b[0;36mIndex.get_loc\u001b[1;34m(self, key)\u001b[0m\n\u001b[0;32m   3807\u001b[0m     \u001b[38;5;28;01mif\u001b[39;00m \u001b[38;5;28misinstance\u001b[39m(casted_key, \u001b[38;5;28mslice\u001b[39m) \u001b[38;5;129;01mor\u001b[39;00m (\n\u001b[0;32m   3808\u001b[0m         \u001b[38;5;28misinstance\u001b[39m(casted_key, abc\u001b[38;5;241m.\u001b[39mIterable)\n\u001b[0;32m   3809\u001b[0m         \u001b[38;5;129;01mand\u001b[39;00m \u001b[38;5;28many\u001b[39m(\u001b[38;5;28misinstance\u001b[39m(x, \u001b[38;5;28mslice\u001b[39m) \u001b[38;5;28;01mfor\u001b[39;00m x \u001b[38;5;129;01min\u001b[39;00m casted_key)\n\u001b[0;32m   3810\u001b[0m     ):\n\u001b[0;32m   3811\u001b[0m         \u001b[38;5;28;01mraise\u001b[39;00m InvalidIndexError(key)\n\u001b[1;32m-> 3812\u001b[0m     \u001b[38;5;28;01mraise\u001b[39;00m \u001b[38;5;167;01mKeyError\u001b[39;00m(key) \u001b[38;5;28;01mfrom\u001b[39;00m \u001b[38;5;21;01merr\u001b[39;00m\n\u001b[0;32m   3813\u001b[0m \u001b[38;5;28;01mexcept\u001b[39;00m \u001b[38;5;167;01mTypeError\u001b[39;00m:\n\u001b[0;32m   3814\u001b[0m     \u001b[38;5;66;03m# If we have a listlike key, _check_indexing_error will raise\u001b[39;00m\n\u001b[0;32m   3815\u001b[0m     \u001b[38;5;66;03m#  InvalidIndexError. Otherwise we fall through and re-raise\u001b[39;00m\n\u001b[0;32m   3816\u001b[0m     \u001b[38;5;66;03m#  the TypeError.\u001b[39;00m\n\u001b[0;32m   3817\u001b[0m     \u001b[38;5;28mself\u001b[39m\u001b[38;5;241m.\u001b[39m_check_indexing_error(key)\n",
      "\u001b[1;31mKeyError\u001b[0m: 'data'"
     ]
    }
   ],
   "source": [
    "df['data'] = pd.to_datetime(df['data'])\n"
   ]
  },
  {
   "cell_type": "markdown",
   "metadata": {},
   "source": [
    "Selecionando e filtrando datas: Após a conversão, é fácil selecionar períodos específicos ou filtrar baseado em datas.\n"
   ]
  },
  {
   "cell_type": "code",
   "execution_count": null,
   "metadata": {},
   "outputs": [],
   "source": [
    "# Selecionando um período específico\n",
    "df_periodo = df.set_index('data')['2020-01-01':'2020-12-31']\n",
    "\n",
    "# Filtrando um intervalo específico\n",
    "df_filtrado = df[(df['data'] >= '2020-01-01') & (df['data'] <= '2020-12-31')]\n"
   ]
  },
  {
   "cell_type": "markdown",
   "metadata": {},
   "source": [
    "Agregação e resample de séries temporais: resample() é útil para mudar a frequência dos dados temporais, permitindo agregação.\n"
   ]
  },
  {
   "cell_type": "code",
   "execution_count": null,
   "metadata": {},
   "outputs": [],
   "source": [
    "# Agregando dados mensais a partir de dados diários\n",
    "df_mensal = df.set_index('data').resample('M').sum()\n"
   ]
  },
  {
   "cell_type": "markdown",
   "metadata": {},
   "source": [
    "## Exemplo Prático\n",
    "Imagine um DataFrame df_vendas com as colunas data, produto, categoria, e valor_venda, e um DataFrame df_estoque com produto, estoque_inicial, e estoque_final. Vamos realizar algumas operações de manipulação avançada nestes DataFrames.\n"
   ]
  },
  {
   "cell_type": "code",
   "execution_count": null,
   "metadata": {},
   "outputs": [],
   "source": [
    "import pandas as pd\n",
    "\n",
    "# Convertendo a coluna 'data' para datetime\n",
    "df_vendas['data'] = pd.to_datetime(df_vendas['data'])\n",
    "\n",
    "# Junção dos DataFrames baseado em 'produto'\n",
    "df_completo = pd.merge(df_vendas, df_estoque, on='produto')\n",
    "\n",
    "# Agregando vendas mensais\n",
    "df_vendas_mensais = df_completo.set_index('data').resample('M').agg({'valor_venda': 'sum', 'estoque_final': 'mean'})\n",
    "\n",
    "# Exibindo o resultado\n",
    "print(df_vendas_mensais.head())\n"
   ]
  },
  {
   "cell_type": "markdown",
   "metadata": {},
   "source": [
    "Este exemplo ilustra como preparar e manipular dados para análises mais detalhadas, utilizando técnicas de junção, agregação temporal, e conversão de tipos de dados.\n"
   ]
  },
  {
   "cell_type": "markdown",
   "metadata": {},
   "source": [
    "\n",
    "# Casos de Uso Avançados\n",
    "\n",
    "Explorando casos de uso avançados que demonstram o poder do Pandas em análises de dados complexas, incluindo análise de séries temporais, dados de geolocalização e integração do Pandas com outras bibliotecas para enriquecer suas capacidades de análise.\n",
    "\n",
    "## Análise de Séries Temporais\n",
    "\n",
    "O Pandas oferece funcionalidades robustas para análise de séries temporais, permitindo trabalhar com facilidade em dados cronológicos para análises mais profundas, como tendências, sazonalidade e padrões de tempo.\n",
    "\n",
    "- Decomposição de séries temporais: Explorar componentes de tendência e sazonalidade.\n",
    "\n",
    "- Janelas móveis: Aplicar funções estatísticas e outras operações em janelas de tempo para suavização ou cálculo de médias móveis.\n"
   ]
  },
  {
   "cell_type": "code",
   "execution_count": null,
   "metadata": {},
   "outputs": [],
   "source": [
    "# Calculando média móvel de 7 dias para 'valor_venda'\n",
    "df_vendas['valor_venda'].rolling(window=7).mean().plot()\n"
   ]
  },
  {
   "cell_type": "markdown",
   "metadata": {},
   "source": [
    "## Dados de Geolocalização\n",
    "\n",
    "Com Pandas, é possível manipular dados de geolocalização para análises geográficas, que podem ser úteis em vários domínios, como logística, planejamento urbano e marketing.\n",
    "\n",
    "### Manipulação de coordenadas geográficas: \n",
    "Analisar dados baseados em localização.\n",
    "\n",
    "- Integração com bibliotecas de geoprocessamento: Como Geopandas para visualização e análise espacial.\n",
    "\n",
    "\n",
    "- Integração do Pandas com Outras Bibliotecas\n",
    "    - O Pandas pode ser integrado com uma série de outras bibliotecas para análises mais específicas ou avançadas, incluindo:\n",
    "\n",
    "- Scikit-learn para Machine Learning: Preparação de dados antes da aplicação de modelos de machine learning.\n"
   ]
  },
  {
   "cell_type": "code",
   "execution_count": null,
   "metadata": {},
   "outputs": [],
   "source": [
    "from sklearn.model_selection import train_test_split\n",
    "\n",
    "# Preparando dados para modelagem\n",
    "X = df.drop('coluna_alvo', axis=1)\n",
    "y = df['coluna_alvo']\n",
    "\n",
    "X_train, X_test, y_train, y_test = train_test_split(X, y, test_size=0.2, random_state=42)\n"
   ]
  },
  {
   "cell_type": "markdown",
   "metadata": {},
   "source": [
    "## SciPy para análises estatísticas: \n",
    "\n",
    "Realizar testes estatísticos ou operações matemáticas complexas.\n",
    "\n",
    "\n",
    "- Matplotlib e Seaborn para visualizações avançadas: Criar gráficos complexos e visualizações de dados personalizadas.\n"
   ]
  },
  {
   "cell_type": "markdown",
   "metadata": {},
   "source": [
    "## Exemplo Prático\n",
    "\n",
    "Vamos considerar um caso onde você possui um DataFrame df_vendas com informações de vendas diárias, incluindo a data e o valor de vendas, e você deseja analisar tendências e padrões sazonais.\n"
   ]
  },
  {
   "cell_type": "code",
   "execution_count": null,
   "metadata": {},
   "outputs": [],
   "source": [
    "import pandas as pd\n",
    "\n",
    "# Simulação do DataFrame 'df_vendas'\n",
    "# Aqui, você substituiria por seu próprio carregamento de dados\n",
    "\n",
    "# Decomposição de séries temporais (usando statsmodels, por exemplo)\n",
    "from statsmodels.tsa.seasonal import seasonal_decompose\n",
    "\n",
    "# Definindo o índice como data para análise de séries temporais\n",
    "df_vendas.set_index('data', inplace=True)\n",
    "\n",
    "# Decompondo a série temporal\n",
    "resultado = seasonal_decompose(df_vendas['valor_venda'], model='additive')\n",
    "\n",
    "# Visualizando componentes\n",
    "resultado.plot().set_size_inches(10, 12)\n"
   ]
  },
  {
   "cell_type": "markdown",
   "metadata": {},
   "source": [
    "Este exemplo mostra como você pode começar a trabalhar com análises de séries temporais no Pandas, preparando o caminho para explorações mais profundas e sofisticadas de padrões nos dados."
   ]
  }
 ],
 "metadata": {
  "kernelspec": {
   "display_name": ".venv",
   "language": "python",
   "name": "python3"
  },
  "language_info": {
   "codemirror_mode": {
    "name": "ipython",
    "version": 3
   },
   "file_extension": ".py",
   "mimetype": "text/x-python",
   "name": "python",
   "nbconvert_exporter": "python",
   "pygments_lexer": "ipython3",
   "version": "3.12.7"
  }
 },
 "nbformat": 4,
 "nbformat_minor": 2
}
